{
 "cells": [
  {
   "cell_type": "code",
   "execution_count": 1,
   "metadata": {},
   "outputs": [
    {
     "data": {
      "text/plain": [
       "836075"
      ]
     },
     "execution_count": 1,
     "metadata": {},
     "output_type": "execute_result"
    }
   ],
   "source": [
    "import os\n",
    "\n",
    "def getFilePathList(rootDir):\n",
    "    filePath_list = []\n",
    "    for walk in os.walk(rootDir):\n",
    "        part_filePath_list = [os.path.join(walk[0], file) for file in walk[2]]\n",
    "        filePath_list.extend(part_filePath_list)\n",
    "    return filePath_list\n",
    "filePath_list = getFilePathList('/home/ubuntu/project/tfTest/THUCNews/THUCNews')\n",
    "len(filePath_list)"
   ]
  },
  {
   "cell_type": "code",
   "execution_count": 2,
   "metadata": {},
   "outputs": [
    {
     "data": {
      "text/plain": [
       "836075"
      ]
     },
     "execution_count": 2,
     "metadata": {},
     "output_type": "execute_result"
    }
   ],
   "source": [
    "label_list = []\n",
    "for filePath in filePath_list:\n",
    "    label = filePath.split('/')[-2]\n",
    "    label_list.append(label)\n",
    "len(label_list)"
   ]
  },
  {
   "cell_type": "code",
   "execution_count": 3,
   "metadata": {},
   "outputs": [],
   "source": [
    "import pickle\n",
    "\n",
    "with open('label_list.pickle', 'wb') as file:\n",
    "    pickle.dump(label_list, file)\n"
   ]
  },
  {
   "cell_type": "code",
   "execution_count": 15,
   "metadata": {},
   "outputs": [
    {
     "name": "stdout",
     "output_type": "stream",
     "text": [
      "000000-020000 start\n",
      "000000-020000 used time: 1.47 seconds\n",
      "020000-040000 start\n",
      "020000-040000 used time: 3.03 seconds\n",
      "040000-060000 start\n",
      "040000-060000 used time: 4.55 seconds\n",
      "060000-080000 start\n",
      "060000-080000 used time: 5.91 seconds\n",
      "080000-100000 start\n",
      "080000-100000 used time: 7.35 seconds\n",
      "100000-120000 start\n",
      "100000-120000 used time: 8.71 seconds\n",
      "120000-140000 start\n",
      "120000-140000 used time: 10.02 seconds\n",
      "140000-160000 start\n",
      "140000-160000 used time: 11.61 seconds\n",
      "160000-180000 start\n",
      "160000-180000 used time: 13.33 seconds\n",
      "180000-200000 start\n",
      "180000-200000 used time: 14.78 seconds\n",
      "200000-220000 start\n",
      "200000-220000 used time: 16.17 seconds\n",
      "220000-240000 start\n",
      "220000-240000 used time: 17.51 seconds\n",
      "240000-260000 start\n",
      "240000-260000 used time: 18.90 seconds\n",
      "260000-280000 start\n",
      "260000-280000 used time: 20.25 seconds\n",
      "280000-300000 start\n",
      "280000-300000 used time: 21.61 seconds\n",
      "300000-320000 start\n",
      "300000-320000 used time: 23.04 seconds\n",
      "320000-340000 start\n",
      "320000-340000 used time: 24.45 seconds\n",
      "340000-360000 start\n",
      "340000-360000 used time: 25.87 seconds\n",
      "360000-380000 start\n",
      "360000-380000 used time: 27.39 seconds\n",
      "380000-400000 start\n",
      "380000-400000 used time: 28.68 seconds\n",
      "400000-420000 start\n",
      "400000-420000 used time: 29.94 seconds\n",
      "420000-440000 start\n",
      "420000-440000 used time: 31.20 seconds\n",
      "440000-460000 start\n",
      "440000-460000 used time: 32.67 seconds\n",
      "460000-480000 start\n",
      "460000-480000 used time: 34.09 seconds\n",
      "480000-500000 start\n",
      "480000-500000 used time: 35.58 seconds\n",
      "500000-520000 start\n",
      "500000-520000 used time: 37.09 seconds\n",
      "520000-540000 start\n",
      "520000-540000 used time: 38.49 seconds\n",
      "540000-560000 start\n",
      "540000-560000 used time: 39.96 seconds\n",
      "560000-580000 start\n",
      "560000-580000 used time: 41.62 seconds\n",
      "580000-600000 start\n",
      "580000-600000 used time: 43.02 seconds\n",
      "600000-620000 start\n",
      "600000-620000 used time: 44.43 seconds\n",
      "620000-640000 start\n",
      "620000-640000 used time: 46.13 seconds\n",
      "640000-660000 start\n",
      "640000-660000 used time: 47.64 seconds\n",
      "660000-680000 start\n",
      "660000-680000 used time: 49.15 seconds\n",
      "680000-700000 start\n",
      "680000-700000 used time: 50.81 seconds\n",
      "700000-720000 start\n",
      "700000-720000 used time: 52.41 seconds\n",
      "720000-740000 start\n",
      "720000-740000 used time: 53.93 seconds\n",
      "740000-760000 start\n",
      "740000-760000 used time: 55.48 seconds\n",
      "760000-780000 start\n",
      "760000-780000 used time: 57.00 seconds\n",
      "780000-800000 start\n",
      "780000-800000 used time: 58.70 seconds\n",
      "800000-820000 start\n",
      "800000-820000 used time: 60.37 seconds\n",
      "820000-840000 start\n",
      "820000-840000 used time: 61.55 seconds\n"
     ]
    }
   ],
   "source": [
    "import time\n",
    "import pickle\n",
    "import re\n",
    "\n",
    "def getFile(filePath):\n",
    "    with open(filePath, encoding='utf8') as file:\n",
    "        fileStr = ''.join(file.readlines(1000))\n",
    "    return fileStr\n",
    "\n",
    "interval = 20000\n",
    "n_samples = len(label_list)\n",
    "startTime = time.time()\n",
    "directory_name = 'content_list'\n",
    "if not os.path.isdir(directory_name):\n",
    "    os.mkdir(directory_name)\n",
    "for i in range(0, n_samples, interval):\n",
    "    startIndex = i\n",
    "    endIndex = i + interval\n",
    "    content_list = []\n",
    "    print('%06d-%06d start' %(startIndex, endIndex))\n",
    "    for filePath in filePath_list[startIndex:endIndex]:\n",
    "        fileStr = getFile(filePath)\n",
    "        content = re.sub('\\s+', ' ', fileStr)\n",
    "        content_list.append(content)\n",
    "    save_fileName = directory_name + '/%06d-%06d.pickle' %(startIndex, endIndex)\n",
    "    with open(save_fileName, 'wb') as file:\n",
    "        pickle.dump(content_list, file)\n",
    "    used_time = time.time() - startTime\n",
    "    print('%06d-%06d used time: %.2f seconds' %(startIndex, endIndex, used_time))"
   ]
  },
  {
   "cell_type": "code",
   "execution_count": 4,
   "metadata": {},
   "outputs": [
    {
     "name": "stdout",
     "output_type": "stream",
     "text": [
      "used time: 10.87 seconds\n",
      "length of content_list，mean sample size: 836075\n"
     ]
    }
   ],
   "source": [
    "import time\n",
    "import pickle\n",
    "import os\n",
    "\n",
    "def getFilePathList(rootDir):\n",
    "    filePath_list = []\n",
    "    for walk in os.walk(rootDir):\n",
    "        part_filePath_list = [os.path.join(walk[0], file) for file in walk[2]]\n",
    "        filePath_list.extend(part_filePath_list)\n",
    "    return filePath_list\n",
    "\n",
    "startTime = time.time()\n",
    "contentListPath_list = getFilePathList('content_list')\n",
    "content_list = []\n",
    "for filePath in contentListPath_list:\n",
    "    with open(filePath, 'rb') as file:\n",
    "        part_content_list = pickle.load(file)\n",
    "    content_list.extend(part_content_list)\n",
    "with open('label_list.pickle', 'rb') as file:\n",
    "    label_list = pickle.load(file)\n",
    "used_time = time.time() - startTime\n",
    "print('used time: %.2f seconds' %used_time)\n",
    "sample_size = len(content_list)\n",
    "print('length of content_list，mean sample size: %d' %sample_size)"
   ]
  },
  {
   "cell_type": "markdown",
   "metadata": {},
   "source": [
    "## 选取一部分数据"
   ]
  },
  {
   "cell_type": "code",
   "execution_count": 5,
   "metadata": {},
   "outputs": [],
   "source": [
    "sample_number = len(label_list)"
   ]
  },
  {
   "cell_type": "code",
   "execution_count": 6,
   "metadata": {},
   "outputs": [
    {
     "data": {
      "text/plain": [
       "836075"
      ]
     },
     "execution_count": 6,
     "metadata": {},
     "output_type": "execute_result"
    }
   ],
   "source": [
    "sample_number"
   ]
  },
  {
   "cell_type": "code",
   "execution_count": 9,
   "metadata": {},
   "outputs": [],
   "source": [
    "import random\n",
    "select_index = random.sample(list(range(sample_number)), k=3000)"
   ]
  },
  {
   "cell_type": "code",
   "execution_count": 11,
   "metadata": {},
   "outputs": [],
   "source": [
    "import numpy as np\n",
    "label_list = np.array(label_list)[select_index]"
   ]
  },
  {
   "cell_type": "code",
   "execution_count": 12,
   "metadata": {},
   "outputs": [
    {
     "data": {
      "text/plain": [
       "3000"
      ]
     },
     "execution_count": 12,
     "metadata": {},
     "output_type": "execute_result"
    }
   ],
   "source": [
    "len(label_list)"
   ]
  },
  {
   "cell_type": "code",
   "execution_count": 14,
   "metadata": {},
   "outputs": [
    {
     "data": {
      "text/plain": [
       "836075"
      ]
     },
     "execution_count": 14,
     "metadata": {},
     "output_type": "execute_result"
    }
   ],
   "source": [
    "len(content_list)"
   ]
  },
  {
   "cell_type": "code",
   "execution_count": 15,
   "metadata": {},
   "outputs": [],
   "source": [
    "content_list_new = []\n",
    "for index in select_index:\n",
    "    content_list_new.append(content_list[index])\n",
    "content_list = content_list_new"
   ]
  },
  {
   "cell_type": "markdown",
   "metadata": {},
   "source": [
    "## 词汇表"
   ]
  },
  {
   "cell_type": "code",
   "execution_count": 36,
   "metadata": {},
   "outputs": [
    {
     "name": "stdout",
     "output_type": "stream",
     "text": [
      "used time: 0.64 seconds\n"
     ]
    }
   ],
   "source": [
    "from collections import Counter \n",
    "def getVocabularyList(content_list, vocabulary_size):\n",
    "    allContent_str = ''.join(content_list)\n",
    "    counter = Counter(allContent_str)\n",
    "    vocabulary_list = [k[0] for k in counter.most_common(vocabulary_size)]\n",
    "    return ['PAD'] + vocabulary_list\n",
    "startTime = time.time()\n",
    "vocabulary_list = getVocabularyList(content_list, 5000)\n",
    "used_time = time.time() - startTime\n",
    "print('used time: %.2f seconds' %used_time)"
   ]
  },
  {
   "cell_type": "code",
   "execution_count": null,
   "metadata": {},
   "outputs": [],
   "source": [
    "# sample_number = len(label——li)"
   ]
  },
  {
   "cell_type": "markdown",
   "metadata": {},
   "source": [
    "## 数据准备"
   ]
  },
  {
   "cell_type": "code",
   "execution_count": 37,
   "metadata": {},
   "outputs": [
    {
     "name": "stdout",
     "output_type": "stream",
     "text": [
      "train_test_split used time : 0.01 seconds\n",
      "content2idList used time : 0.60 seconds\n",
      "data preparation used time : 0.78 seconds\n"
     ]
    }
   ],
   "source": [
    "import time\n",
    "startTime = time.time()\n",
    "from sklearn.model_selection import train_test_split\n",
    "train_X, test_X, train_y, test_y = train_test_split(content_list, label_list)\n",
    "train_content_list = train_X\n",
    "train_label_list = train_y\n",
    "test_content_list = test_X\n",
    "test_label_list = test_y\n",
    "used_time = time.time() - startTime\n",
    "print('train_test_split used time : %.2f seconds' %used_time)\n",
    "vocabulary_size = 5000  # 词汇表达小\n",
    "sequence_length = 600  # 序列长度\n",
    "embedding_size = 64  # 词向量维度\n",
    "num_filters = 256  # 卷积核数目\n",
    "filter_size = 5  # 卷积核尺寸\n",
    "num_fc_units = 128  # 全连接层神经元\n",
    "dropout_keep_probability = 0.5  # dropout保留比例\n",
    "learning_rate = 1e-3  # 学习率\n",
    "batch_size = 64  # 每批训练大小\n",
    "word2id_dict = dict([(b, a) for a, b in enumerate(vocabulary_list)])\n",
    "content2idList = lambda content : [word2id_dict[ word] for word in content if word in word2id_dict]\n",
    "train_idlist_list = [content2idList(content) for content in train_content_list]\n",
    "used_time = time.time() - startTime\n",
    "print('content2idList used time : %.2f seconds' %used_time)\n",
    "import numpy as np\n",
    "num_classes = np.unique(label_list).shape[0]\n",
    "import tensorflow.contrib.keras as kr\n",
    "train_X = kr.preprocessing.sequence.pad_sequences(train_idlist_list, sequence_length)\n",
    "from sklearn.preprocessing import LabelEncoder\n",
    "labelEncoder = LabelEncoder()\n",
    "train_y = labelEncoder.fit_transform(train_label_list)\n",
    "train_Y = kr.utils.to_categorical(train_y, num_classes)\n",
    "import tensorflow as tf\n",
    "tf.reset_default_graph()\n",
    "X_holder = tf.placeholder(tf.int32, [None, sequence_length])\n",
    "Y_holder = tf.placeholder(tf.float32, [None, num_classes])\n",
    "used_time = time.time() - startTime\n",
    "print('data preparation used time : %.2f seconds' %used_time)"
   ]
  },
  {
   "cell_type": "markdown",
   "metadata": {},
   "source": [
    "## 查看数据"
   ]
  },
  {
   "cell_type": "code",
   "execution_count": 38,
   "metadata": {},
   "outputs": [
    {
     "data": {
      "text/plain": [
       "1       23\n",
       "2       17\n",
       "4       16\n",
       "122     14\n",
       "9       13\n",
       "128     10\n",
       "36       9\n",
       "3        9\n",
       "14       9\n",
       "575      8\n",
       "1073     8\n",
       "22       7\n",
       "21       7\n",
       "18       6\n",
       "40       6\n",
       "11       6\n",
       "33       6\n",
       "80       5\n",
       "1141     5\n",
       "783      5\n",
       "165      5\n",
       "196      5\n",
       "339      5\n",
       "107      5\n",
       "7        5\n",
       "992      5\n",
       "26       5\n",
       "2002     5\n",
       "6        5\n",
       "8        5\n",
       "        ..\n",
       "589      1\n",
       "610      1\n",
       "1185     1\n",
       "638      1\n",
       "539      1\n",
       "151      1\n",
       "1667     1\n",
       "147      1\n",
       "144      1\n",
       "390      1\n",
       "648      1\n",
       "188      1\n",
       "537      1\n",
       "232      1\n",
       "214      1\n",
       "227      1\n",
       "226      1\n",
       "499      1\n",
       "222      1\n",
       "504      1\n",
       "505      1\n",
       "1530     1\n",
       "535      1\n",
       "203      1\n",
       "510      1\n",
       "519      1\n",
       "2575     1\n",
       "1212     1\n",
       "187      1\n",
       "279      1\n",
       "Length: 244, dtype: int64"
      ]
     },
     "execution_count": 38,
     "metadata": {},
     "output_type": "execute_result"
    }
   ],
   "source": [
    "import pandas as pd\n",
    "pd.value_counts(train_idlist_list[1])"
   ]
  },
  {
   "cell_type": "code",
   "execution_count": 40,
   "metadata": {},
   "outputs": [
    {
     "data": {
      "text/plain": [
       "12"
      ]
     },
     "execution_count": 40,
     "metadata": {},
     "output_type": "execute_result"
    }
   ],
   "source": [
    "train_y[0]"
   ]
  },
  {
   "cell_type": "code",
   "execution_count": null,
   "metadata": {},
   "outputs": [],
   "source": [
    "label_"
   ]
  },
  {
   "cell_type": "markdown",
   "metadata": {},
   "source": [
    "## 搭建神经网络"
   ]
  },
  {
   "cell_type": "code",
   "execution_count": 9,
   "metadata": {},
   "outputs": [
    {
     "data": {
      "text/plain": [
       "'1.10.0'"
      ]
     },
     "execution_count": 9,
     "metadata": {},
     "output_type": "execute_result"
    }
   ],
   "source": [
    "#输入法好不习惯\n",
    "#打个下划线贼难，变来变去的\n",
    "\n",
    "tf.__version__"
   ]
  },
  {
   "cell_type": "code",
   "execution_count": 24,
   "metadata": {},
   "outputs": [],
   "source": [
    "#你这版本太低了\n",
    "#我的GPU只支持1.3-1.4"
   ]
  },
  {
   "cell_type": "code",
   "execution_count": 10,
   "metadata": {},
   "outputs": [
    {
     "name": "stdout",
     "output_type": "stream",
     "text": [
      "Tue Nov  6 17:50:36 2018       \r\n",
      "+-----------------------------------------------------------------------------+\r\n",
      "| NVIDIA-SMI 384.130                Driver Version: 384.130                   |\r\n",
      "|-------------------------------+----------------------+----------------------+\r\n",
      "| GPU  Name        Persistence-M| Bus-Id        Disp.A | Volatile Uncorr. ECC |\r\n",
      "| Fan  Temp  Perf  Pwr:Usage/Cap|         Memory-Usage | GPU-Util  Compute M. |\r\n",
      "|===============================+======================+======================|\r\n",
      "|   0  GeForce GTX TIT...  Off  | 00000000:83:00.0  On |                  N/A |\r\n",
      "| 32%   48C    P8    28W / 189W |    449MiB /  6075MiB |     14%      Default |\r\n",
      "+-------------------------------+----------------------+----------------------+\r\n",
      "|   1  GeForce GTX TIT...  Off  | 00000000:84:00.0 Off |                  N/A |\r\n",
      "| 29%   44C    P8    32W / 189W |      1MiB /  6082MiB |      0%      Default |\r\n",
      "+-------------------------------+----------------------+----------------------+\r\n",
      "                                                                               \r\n",
      "+-----------------------------------------------------------------------------+\r\n",
      "| Processes:                                                       GPU Memory |\r\n",
      "|  GPU       PID   Type   Process name                             Usage      |\r\n",
      "|=============================================================================|\r\n",
      "|    0      1217      G   /usr/lib/xorg/Xorg                           255MiB |\r\n",
      "|    0      2262      G   compiz                                        98MiB |\r\n",
      "|    0     10796      G   ...-token=E07EE0622B69C34EA2EFE79FE9C3821C    90MiB |\r\n",
      "+-----------------------------------------------------------------------------+\r\n"
     ]
    }
   ],
   "source": [
    "!nvidia-smi"
   ]
  },
  {
   "cell_type": "code",
   "execution_count": 20,
   "metadata": {},
   "outputs": [
    {
     "name": "stdout",
     "output_type": "stream",
     "text": [
      "data preparation used time : 39.85 seconds\n"
     ]
    }
   ],
   "source": [
    "import tensorflow as tf\n",
    "import os\n",
    "tf.reset_default_graph()\n",
    "X_holder = tf.placeholder(tf.int32, [None, sequence_length])\n",
    "Y_holder = tf.placeholder(tf.float32, [None, num_classes])\n",
    "used_time = time.time() - startTime\n",
    "print('data preparation used time : %.2f seconds' %used_time)"
   ]
  },
  {
   "cell_type": "code",
   "execution_count": 32,
   "metadata": {},
   "outputs": [],
   "source": [
    "embedding = tf.get_variable('embedding', \n",
    "                            [vocabulary_size, embedding_size])\n",
    "embedding_inputs = tf.nn.embedding_lookup(embedding,\n",
    "                                          X_holder)\n",
    "conv = tf.layers.conv1d(embedding_inputs,\n",
    "                        num_filters,\n",
    "                        filter_size)\n",
    "max_pooling = tf.reduce_max(conv, \n",
    "                            [1])\n",
    "full_connect = tf.layers.dense(max_pooling,\n",
    "                               num_fc_units)\n",
    "full_connect_dropout = tf.contrib.layers.dropout(full_connect, \n",
    "                                                 keep_prob=dropout_keep_probability)\n",
    "full_connect_activate = tf.nn.relu(full_connect_dropout)\n",
    "softmax_before = tf.layers.dense(full_connect_activate,\n",
    "                                 num_classes)\n",
    "predict_Y = tf.nn.softmax(softmax_before)\n",
    "cross_entropy = tf.nn.softmax_cross_entropy_with_logits(labels=Y_holder,\n",
    "                                                           logits=softmax_before)\n",
    "loss = tf.reduce_mean(cross_entropy)\n",
    "optimizer = tf.train.AdamOptimizer(learning_rate)\n",
    "train = optimizer.minimize(loss)\n",
    "isCorrect = tf.equal(tf.argmax(Y_holder, 1), tf.argmax(predict_Y, 1))\n",
    "accuracy = tf.reduce_mean(tf.cast(isCorrect, tf.float32))"
   ]
  },
  {
   "cell_type": "markdown",
   "metadata": {},
   "source": [
    "## 参数初始化"
   ]
  },
  {
   "cell_type": "code",
   "execution_count": 33,
   "metadata": {},
   "outputs": [],
   "source": [
    "init = tf.global_variables_initializer()\n",
    "session = tf.Session()\n",
    "session.run(init)"
   ]
  },
  {
   "cell_type": "markdown",
   "metadata": {},
   "source": [
    "## 模型训练"
   ]
  },
  {
   "cell_type": "code",
   "execution_count": 35,
   "metadata": {},
   "outputs": [
    {
     "name": "stdout",
     "output_type": "stream",
     "text": [
      "step:100 loss:4.4178 accuracy:0.2900\n",
      "step:200 loss:3.9606 accuracy:0.2600\n",
      "step:300 loss:4.2849 accuracy:0.3250\n",
      "step:400 loss:4.3718 accuracy:0.2750\n",
      "step:500 loss:4.3940 accuracy:0.3150\n",
      "step:600 loss:4.6178 accuracy:0.2350\n",
      "step:700 loss:4.8709 accuracy:0.2500\n",
      "step:800 loss:4.5706 accuracy:0.2600\n",
      "step:900 loss:4.8859 accuracy:0.2800\n",
      "step:1000 loss:5.1113 accuracy:0.2600\n"
     ]
    }
   ],
   "source": [
    "test_idlist_list = [content2idList(content) for content in test_content_list]\n",
    "test_X = kr.preprocessing.sequence.pad_sequences(test_idlist_list, sequence_length)\n",
    "test_y = labelEncoder.transform(test_label_list)\n",
    "test_Y = kr.utils.to_categorical(test_y, num_classes)\n",
    "import random\n",
    "for i in range(1000):\n",
    "    selected_index = random.sample(list(range(len(train_y))), k=batch_size)\n",
    "    batch_X = train_X[selected_index]\n",
    "    batch_Y = train_Y[selected_index]\n",
    "    session.run(train, {X_holder:batch_X, Y_holder:batch_Y})\n",
    "    step = i + 1 \n",
    "    if step % 100 == 0:\n",
    "        selected_index = random.sample(list(range(len(test_y))), k=200)\n",
    "        batch_X = test_X[selected_index]\n",
    "        batch_Y = test_Y[selected_index]\n",
    "        loss_value, accuracy_value = session.run([loss, accuracy], {X_holder:batch_X, Y_holder:batch_Y})\n",
    "        print('step:%d loss:%.4f accuracy:%.4f' %(step, loss_value, accuracy_value))"
   ]
  },
  {
   "cell_type": "markdown",
   "metadata": {},
   "source": [
    "## 混淆矩阵"
   ]
  },
  {
   "cell_type": "code",
   "execution_count": 26,
   "metadata": {},
   "outputs": [
    {
     "data": {
      "text/html": [
       "<div>\n",
       "<style scoped>\n",
       "    .dataframe tbody tr th:only-of-type {\n",
       "        vertical-align: middle;\n",
       "    }\n",
       "\n",
       "    .dataframe tbody tr th {\n",
       "        vertical-align: top;\n",
       "    }\n",
       "\n",
       "    .dataframe thead th {\n",
       "        text-align: right;\n",
       "    }\n",
       "</style>\n",
       "<table border=\"1\" class=\"dataframe\">\n",
       "  <thead>\n",
       "    <tr style=\"text-align: right;\">\n",
       "      <th></th>\n",
       "      <th>体育</th>\n",
       "      <th>娱乐</th>\n",
       "      <th>家居</th>\n",
       "      <th>彩票</th>\n",
       "      <th>房产</th>\n",
       "      <th>教育</th>\n",
       "      <th>时尚</th>\n",
       "      <th>时政</th>\n",
       "      <th>星座</th>\n",
       "      <th>游戏</th>\n",
       "      <th>社会</th>\n",
       "      <th>科技</th>\n",
       "      <th>股票</th>\n",
       "      <th>财经</th>\n",
       "    </tr>\n",
       "  </thead>\n",
       "  <tbody>\n",
       "    <tr>\n",
       "      <th>体育</th>\n",
       "      <td>41</td>\n",
       "      <td>14</td>\n",
       "      <td>0</td>\n",
       "      <td>3</td>\n",
       "      <td>5</td>\n",
       "      <td>1</td>\n",
       "      <td>0</td>\n",
       "      <td>5</td>\n",
       "      <td>0</td>\n",
       "      <td>2</td>\n",
       "      <td>10</td>\n",
       "      <td>11</td>\n",
       "      <td>26</td>\n",
       "      <td>1</td>\n",
       "    </tr>\n",
       "    <tr>\n",
       "      <th>娱乐</th>\n",
       "      <td>15</td>\n",
       "      <td>32</td>\n",
       "      <td>2</td>\n",
       "      <td>0</td>\n",
       "      <td>4</td>\n",
       "      <td>0</td>\n",
       "      <td>1</td>\n",
       "      <td>5</td>\n",
       "      <td>0</td>\n",
       "      <td>2</td>\n",
       "      <td>5</td>\n",
       "      <td>7</td>\n",
       "      <td>7</td>\n",
       "      <td>2</td>\n",
       "    </tr>\n",
       "    <tr>\n",
       "      <th>家居</th>\n",
       "      <td>2</td>\n",
       "      <td>1</td>\n",
       "      <td>2</td>\n",
       "      <td>0</td>\n",
       "      <td>0</td>\n",
       "      <td>0</td>\n",
       "      <td>0</td>\n",
       "      <td>4</td>\n",
       "      <td>0</td>\n",
       "      <td>2</td>\n",
       "      <td>1</td>\n",
       "      <td>5</td>\n",
       "      <td>1</td>\n",
       "      <td>0</td>\n",
       "    </tr>\n",
       "    <tr>\n",
       "      <th>彩票</th>\n",
       "      <td>0</td>\n",
       "      <td>0</td>\n",
       "      <td>0</td>\n",
       "      <td>0</td>\n",
       "      <td>0</td>\n",
       "      <td>0</td>\n",
       "      <td>0</td>\n",
       "      <td>0</td>\n",
       "      <td>0</td>\n",
       "      <td>0</td>\n",
       "      <td>1</td>\n",
       "      <td>1</td>\n",
       "      <td>0</td>\n",
       "      <td>0</td>\n",
       "    </tr>\n",
       "    <tr>\n",
       "      <th>房产</th>\n",
       "      <td>4</td>\n",
       "      <td>3</td>\n",
       "      <td>0</td>\n",
       "      <td>0</td>\n",
       "      <td>0</td>\n",
       "      <td>0</td>\n",
       "      <td>1</td>\n",
       "      <td>0</td>\n",
       "      <td>0</td>\n",
       "      <td>0</td>\n",
       "      <td>0</td>\n",
       "      <td>1</td>\n",
       "      <td>6</td>\n",
       "      <td>0</td>\n",
       "    </tr>\n",
       "    <tr>\n",
       "      <th>教育</th>\n",
       "      <td>6</td>\n",
       "      <td>0</td>\n",
       "      <td>1</td>\n",
       "      <td>0</td>\n",
       "      <td>0</td>\n",
       "      <td>2</td>\n",
       "      <td>2</td>\n",
       "      <td>5</td>\n",
       "      <td>0</td>\n",
       "      <td>0</td>\n",
       "      <td>1</td>\n",
       "      <td>5</td>\n",
       "      <td>9</td>\n",
       "      <td>0</td>\n",
       "    </tr>\n",
       "    <tr>\n",
       "      <th>时尚</th>\n",
       "      <td>1</td>\n",
       "      <td>0</td>\n",
       "      <td>0</td>\n",
       "      <td>0</td>\n",
       "      <td>0</td>\n",
       "      <td>2</td>\n",
       "      <td>0</td>\n",
       "      <td>0</td>\n",
       "      <td>0</td>\n",
       "      <td>0</td>\n",
       "      <td>1</td>\n",
       "      <td>4</td>\n",
       "      <td>4</td>\n",
       "      <td>0</td>\n",
       "    </tr>\n",
       "    <tr>\n",
       "      <th>时政</th>\n",
       "      <td>9</td>\n",
       "      <td>10</td>\n",
       "      <td>5</td>\n",
       "      <td>1</td>\n",
       "      <td>1</td>\n",
       "      <td>3</td>\n",
       "      <td>2</td>\n",
       "      <td>13</td>\n",
       "      <td>0</td>\n",
       "      <td>1</td>\n",
       "      <td>3</td>\n",
       "      <td>11</td>\n",
       "      <td>17</td>\n",
       "      <td>0</td>\n",
       "    </tr>\n",
       "    <tr>\n",
       "      <th>星座</th>\n",
       "      <td>2</td>\n",
       "      <td>0</td>\n",
       "      <td>0</td>\n",
       "      <td>0</td>\n",
       "      <td>0</td>\n",
       "      <td>0</td>\n",
       "      <td>1</td>\n",
       "      <td>0</td>\n",
       "      <td>0</td>\n",
       "      <td>0</td>\n",
       "      <td>1</td>\n",
       "      <td>0</td>\n",
       "      <td>3</td>\n",
       "      <td>0</td>\n",
       "    </tr>\n",
       "    <tr>\n",
       "      <th>游戏</th>\n",
       "      <td>2</td>\n",
       "      <td>4</td>\n",
       "      <td>0</td>\n",
       "      <td>0</td>\n",
       "      <td>0</td>\n",
       "      <td>0</td>\n",
       "      <td>0</td>\n",
       "      <td>1</td>\n",
       "      <td>0</td>\n",
       "      <td>3</td>\n",
       "      <td>0</td>\n",
       "      <td>13</td>\n",
       "      <td>1</td>\n",
       "      <td>2</td>\n",
       "    </tr>\n",
       "    <tr>\n",
       "      <th>社会</th>\n",
       "      <td>12</td>\n",
       "      <td>4</td>\n",
       "      <td>0</td>\n",
       "      <td>0</td>\n",
       "      <td>2</td>\n",
       "      <td>2</td>\n",
       "      <td>0</td>\n",
       "      <td>4</td>\n",
       "      <td>0</td>\n",
       "      <td>0</td>\n",
       "      <td>9</td>\n",
       "      <td>5</td>\n",
       "      <td>13</td>\n",
       "      <td>1</td>\n",
       "    </tr>\n",
       "    <tr>\n",
       "      <th>科技</th>\n",
       "      <td>16</td>\n",
       "      <td>5</td>\n",
       "      <td>2</td>\n",
       "      <td>1</td>\n",
       "      <td>1</td>\n",
       "      <td>12</td>\n",
       "      <td>1</td>\n",
       "      <td>5</td>\n",
       "      <td>0</td>\n",
       "      <td>4</td>\n",
       "      <td>10</td>\n",
       "      <td>80</td>\n",
       "      <td>8</td>\n",
       "      <td>7</td>\n",
       "    </tr>\n",
       "    <tr>\n",
       "      <th>股票</th>\n",
       "      <td>40</td>\n",
       "      <td>9</td>\n",
       "      <td>0</td>\n",
       "      <td>0</td>\n",
       "      <td>0</td>\n",
       "      <td>4</td>\n",
       "      <td>2</td>\n",
       "      <td>7</td>\n",
       "      <td>0</td>\n",
       "      <td>1</td>\n",
       "      <td>6</td>\n",
       "      <td>25</td>\n",
       "      <td>35</td>\n",
       "      <td>3</td>\n",
       "    </tr>\n",
       "    <tr>\n",
       "      <th>财经</th>\n",
       "      <td>2</td>\n",
       "      <td>0</td>\n",
       "      <td>0</td>\n",
       "      <td>0</td>\n",
       "      <td>0</td>\n",
       "      <td>0</td>\n",
       "      <td>0</td>\n",
       "      <td>0</td>\n",
       "      <td>0</td>\n",
       "      <td>2</td>\n",
       "      <td>1</td>\n",
       "      <td>11</td>\n",
       "      <td>8</td>\n",
       "      <td>2</td>\n",
       "    </tr>\n",
       "  </tbody>\n",
       "</table>\n",
       "</div>"
      ],
      "text/plain": [
       "    体育  娱乐  家居  彩票  房产  教育  时尚  时政  星座  游戏  社会  科技  股票  财经\n",
       "体育  41  14   0   3   5   1   0   5   0   2  10  11  26   1\n",
       "娱乐  15  32   2   0   4   0   1   5   0   2   5   7   7   2\n",
       "家居   2   1   2   0   0   0   0   4   0   2   1   5   1   0\n",
       "彩票   0   0   0   0   0   0   0   0   0   0   1   1   0   0\n",
       "房产   4   3   0   0   0   0   1   0   0   0   0   1   6   0\n",
       "教育   6   0   1   0   0   2   2   5   0   0   1   5   9   0\n",
       "时尚   1   0   0   0   0   2   0   0   0   0   1   4   4   0\n",
       "时政   9  10   5   1   1   3   2  13   0   1   3  11  17   0\n",
       "星座   2   0   0   0   0   0   1   0   0   0   1   0   3   0\n",
       "游戏   2   4   0   0   0   0   0   1   0   3   0  13   1   2\n",
       "社会  12   4   0   0   2   2   0   4   0   0   9   5  13   1\n",
       "科技  16   5   2   1   1  12   1   5   0   4  10  80   8   7\n",
       "股票  40   9   0   0   0   4   2   7   0   1   6  25  35   3\n",
       "财经   2   0   0   0   0   0   0   0   0   2   1  11   8   2"
      ]
     },
     "execution_count": 26,
     "metadata": {},
     "output_type": "execute_result"
    }
   ],
   "source": [
    "import numpy as np\n",
    "import pandas as pd\n",
    "from sklearn.metrics import confusion_matrix\n",
    "\n",
    "def predictAll(test_X, batch_size=100):\n",
    "    predict_value_list = []\n",
    "    for i in range(0, len(test_X), batch_size):\n",
    "        selected_X = test_X[i: i + batch_size]\n",
    "        predict_value = session.run(predict_Y, {X_holder:selected_X})\n",
    "        predict_value_list.extend(predict_value)\n",
    "    return np.array(predict_value_list)\n",
    "\n",
    "Y = predictAll(test_X)\n",
    "y = np.argmax(Y, axis=1)\n",
    "predict_label_list = labelEncoder.inverse_transform(y)\n",
    "pd.DataFrame(confusion_matrix(test_label_list, predict_label_list), \n",
    "             columns=labelEncoder.classes_,\n",
    "             index=labelEncoder.classes_ )"
   ]
  },
  {
   "cell_type": "markdown",
   "metadata": {},
   "source": [
    "## 报告表"
   ]
  },
  {
   "cell_type": "code",
   "execution_count": 28,
   "metadata": {},
   "outputs": [
    {
     "data": {
      "text/html": [
       "<div>\n",
       "<style scoped>\n",
       "    .dataframe tbody tr th:only-of-type {\n",
       "        vertical-align: middle;\n",
       "    }\n",
       "\n",
       "    .dataframe tbody tr th {\n",
       "        vertical-align: top;\n",
       "    }\n",
       "\n",
       "    .dataframe thead th {\n",
       "        text-align: right;\n",
       "    }\n",
       "</style>\n",
       "<table border=\"1\" class=\"dataframe\">\n",
       "  <thead>\n",
       "    <tr style=\"text-align: right;\">\n",
       "      <th></th>\n",
       "      <th>Label</th>\n",
       "      <th>Precision</th>\n",
       "      <th>Recall</th>\n",
       "      <th>F1</th>\n",
       "      <th>Support</th>\n",
       "    </tr>\n",
       "  </thead>\n",
       "  <tbody>\n",
       "    <tr>\n",
       "      <th>0</th>\n",
       "      <td>体育</td>\n",
       "      <td>0.269737</td>\n",
       "      <td>0.344538</td>\n",
       "      <td>0.302583</td>\n",
       "      <td>119</td>\n",
       "    </tr>\n",
       "    <tr>\n",
       "      <th>1</th>\n",
       "      <td>娱乐</td>\n",
       "      <td>0.390244</td>\n",
       "      <td>0.390244</td>\n",
       "      <td>0.390244</td>\n",
       "      <td>82</td>\n",
       "    </tr>\n",
       "    <tr>\n",
       "      <th>2</th>\n",
       "      <td>家居</td>\n",
       "      <td>0.166667</td>\n",
       "      <td>0.111111</td>\n",
       "      <td>0.133333</td>\n",
       "      <td>18</td>\n",
       "    </tr>\n",
       "    <tr>\n",
       "      <th>3</th>\n",
       "      <td>彩票</td>\n",
       "      <td>0.000000</td>\n",
       "      <td>0.000000</td>\n",
       "      <td>0.000000</td>\n",
       "      <td>2</td>\n",
       "    </tr>\n",
       "    <tr>\n",
       "      <th>4</th>\n",
       "      <td>房产</td>\n",
       "      <td>0.000000</td>\n",
       "      <td>0.000000</td>\n",
       "      <td>0.000000</td>\n",
       "      <td>15</td>\n",
       "    </tr>\n",
       "    <tr>\n",
       "      <th>5</th>\n",
       "      <td>教育</td>\n",
       "      <td>0.076923</td>\n",
       "      <td>0.064516</td>\n",
       "      <td>0.070175</td>\n",
       "      <td>31</td>\n",
       "    </tr>\n",
       "    <tr>\n",
       "      <th>6</th>\n",
       "      <td>时尚</td>\n",
       "      <td>0.000000</td>\n",
       "      <td>0.000000</td>\n",
       "      <td>0.000000</td>\n",
       "      <td>12</td>\n",
       "    </tr>\n",
       "    <tr>\n",
       "      <th>7</th>\n",
       "      <td>时政</td>\n",
       "      <td>0.265306</td>\n",
       "      <td>0.171053</td>\n",
       "      <td>0.208000</td>\n",
       "      <td>76</td>\n",
       "    </tr>\n",
       "    <tr>\n",
       "      <th>8</th>\n",
       "      <td>星座</td>\n",
       "      <td>0.000000</td>\n",
       "      <td>0.000000</td>\n",
       "      <td>0.000000</td>\n",
       "      <td>7</td>\n",
       "    </tr>\n",
       "    <tr>\n",
       "      <th>9</th>\n",
       "      <td>游戏</td>\n",
       "      <td>0.176471</td>\n",
       "      <td>0.115385</td>\n",
       "      <td>0.139535</td>\n",
       "      <td>26</td>\n",
       "    </tr>\n",
       "    <tr>\n",
       "      <th>10</th>\n",
       "      <td>社会</td>\n",
       "      <td>0.183673</td>\n",
       "      <td>0.173077</td>\n",
       "      <td>0.178218</td>\n",
       "      <td>52</td>\n",
       "    </tr>\n",
       "    <tr>\n",
       "      <th>11</th>\n",
       "      <td>科技</td>\n",
       "      <td>0.446927</td>\n",
       "      <td>0.526316</td>\n",
       "      <td>0.483384</td>\n",
       "      <td>152</td>\n",
       "    </tr>\n",
       "    <tr>\n",
       "      <th>12</th>\n",
       "      <td>股票</td>\n",
       "      <td>0.253623</td>\n",
       "      <td>0.265152</td>\n",
       "      <td>0.259259</td>\n",
       "      <td>132</td>\n",
       "    </tr>\n",
       "    <tr>\n",
       "      <th>13</th>\n",
       "      <td>财经</td>\n",
       "      <td>0.111111</td>\n",
       "      <td>0.076923</td>\n",
       "      <td>0.090909</td>\n",
       "      <td>26</td>\n",
       "    </tr>\n",
       "    <tr>\n",
       "      <th>999</th>\n",
       "      <td>总体</td>\n",
       "      <td>0.277448</td>\n",
       "      <td>0.292000</td>\n",
       "      <td>0.281795</td>\n",
       "      <td>750</td>\n",
       "    </tr>\n",
       "  </tbody>\n",
       "</table>\n",
       "</div>"
      ],
      "text/plain": [
       "    Label  Precision    Recall        F1  Support\n",
       "0      体育   0.269737  0.344538  0.302583      119\n",
       "1      娱乐   0.390244  0.390244  0.390244       82\n",
       "2      家居   0.166667  0.111111  0.133333       18\n",
       "3      彩票   0.000000  0.000000  0.000000        2\n",
       "4      房产   0.000000  0.000000  0.000000       15\n",
       "5      教育   0.076923  0.064516  0.070175       31\n",
       "6      时尚   0.000000  0.000000  0.000000       12\n",
       "7      时政   0.265306  0.171053  0.208000       76\n",
       "8      星座   0.000000  0.000000  0.000000        7\n",
       "9      游戏   0.176471  0.115385  0.139535       26\n",
       "10     社会   0.183673  0.173077  0.178218       52\n",
       "11     科技   0.446927  0.526316  0.483384      152\n",
       "12     股票   0.253623  0.265152  0.259259      132\n",
       "13     财经   0.111111  0.076923  0.090909       26\n",
       "999    总体   0.277448  0.292000  0.281795      750"
      ]
     },
     "execution_count": 28,
     "metadata": {},
     "output_type": "execute_result"
    }
   ],
   "source": [
    "import numpy as np \n",
    "from sklearn.metrics import precision_recall_fscore_support\n",
    "\n",
    "def eval_model(y_true, y_pred, labels):\n",
    "    # 计算每个分类的Precision, Recall, f1, support\n",
    "    p, r, f1, s = precision_recall_fscore_support(y_true, y_pred)\n",
    "    # 计算总体的平均Precision, Recall, f1, support\n",
    "    tot_p = np.average(p, weights=s)\n",
    "    tot_r = np.average(r, weights=s)\n",
    "    tot_f1 = np.average(f1, weights=s)\n",
    "    tot_s = np.sum(s)\n",
    "    res1 = pd.DataFrame({\n",
    "        u'Label': labels,\n",
    "        u'Precision': p,\n",
    "        u'Recall': r,\n",
    "        u'F1': f1,\n",
    "        u'Support': s\n",
    "    })\n",
    "    res2 = pd.DataFrame({\n",
    "        u'Label': ['总体'],\n",
    "        u'Precision': [tot_p],\n",
    "        u'Recall': [tot_r],\n",
    "        u'F1': [tot_f1],\n",
    "        u'Support': [tot_s]\n",
    "    })\n",
    "    res2.index = [999]\n",
    "    res = pd.concat([res1, res2])\n",
    "    return res[['Label', 'Precision', 'Recall', 'F1', 'Support']]\n",
    "\n",
    "eval_model(test_label_list, predict_label_list, labelEncoder.classes_)"
   ]
  },
  {
   "cell_type": "code",
   "execution_count": 36,
   "metadata": {},
   "outputs": [],
   "source": [
    "#可以看到房产，时尚，财经，预测准确率为0"
   ]
  },
  {
   "cell_type": "code",
   "execution_count": null,
   "metadata": {},
   "outputs": [],
   "source": []
  }
 ],
 "metadata": {
  "kernelspec": {
   "display_name": "Python 3",
   "language": "python",
   "name": "python3"
  },
  "language_info": {
   "codemirror_mode": {
    "name": "ipython",
    "version": 3
   },
   "file_extension": ".py",
   "mimetype": "text/x-python",
   "name": "python",
   "nbconvert_exporter": "python",
   "pygments_lexer": "ipython3",
   "version": "3.5.4"
  }
 },
 "nbformat": 4,
 "nbformat_minor": 2
}
